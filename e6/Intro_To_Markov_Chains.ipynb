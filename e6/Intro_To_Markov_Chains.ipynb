{
  "nbformat": 4,
  "nbformat_minor": 0,
  "metadata": {
    "colab": {
      "name": "Intro To Markov Chains",
      "provenance": [],
      "collapsed_sections": []
    },
    "kernelspec": {
      "name": "python3",
      "display_name": "Python 3"
    },
    "language_info": {
      "name": "python"
    }
  },
  "cells": [
    {
      "cell_type": "markdown",
      "metadata": {
        "id": "LfnI7gn3dmwh"
      },
      "source": [
        "##Markov Chains"
      ]
    },
    {
      "cell_type": "markdown",
      "metadata": {
        "id": "YtNMLA0bdcfN"
      },
      "source": [
        "###### Adapted From http://firsttimeprogrammer.blogspot.com/"
      ]
    },
    {
      "cell_type": "code",
      "metadata": {
        "id": "n7MVUIpGc7kR"
      },
      "source": [
        "# Necessary imports\n",
        "import numpy as np\n",
        "import random as rm"
      ],
      "execution_count": 1,
      "outputs": []
    },
    {
      "cell_type": "markdown",
      "metadata": {
        "id": "YTGKk2MfFwAd"
      },
      "source": [
        "![Sunny Cloudy.drawio.png](data:image/png;base64,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)"
      ]
    },
    {
      "cell_type": "code",
      "metadata": {
        "id": "KiWRRjJSeCJr"
      },
      "source": [
        "# Let's define the statespace\n",
        "states = [\"Sunny\",\"Cloudy\"]\n",
        "\n",
        "# Possible sequences of events\n",
        "transitionName = [[\"SuSu\",\"SuCl\"],[\"ClSu\",\"ClCl\"]]\n",
        "\n",
        "# Probabilities matrix (transition matrix)\n",
        "transitionMatrix = [[0.8,0.2],\n",
        "                    [0.5,0.5]]\n",
        "\n",
        "# Check that probabilities add to 1. If not, raise ValueError\n",
        "if sum(transitionMatrix[0])!=1 or sum(transitionMatrix[1]) != 1:\n",
        "    print(\"Error!!!! Probabilities MUST ADD TO 1. Check transition matrix!!\")\n",
        "    raise ValueError(\"Probabilities MUST ADD TO 1\")"
      ],
      "execution_count": 1,
      "outputs": []
    },
    {
      "cell_type": "code",
      "metadata": {
        "id": "c5nDqovQeKD8"
      },
      "source": [
        "# A functions which implements the Markov model to forecast the weather\n",
        "def weatherForecast(days, weatherToday = None):\n",
        "    rm.seed()\n",
        "    if weatherToday is None:\n",
        "      weatherToday = 'Cloudy' if rm.random()<0.5 else 'Sunny'\n",
        "    output = weatherToday\n",
        "    i = 1\n",
        "    print(\"Starting weather: \",weatherToday)\n",
        "    while i < days:\n",
        "        if weatherToday == \"Sunny\":\n",
        "            change = np.random.choice(transitionName[0],replace=True,p=transitionMatrix[0])\n",
        "            if change == \"SuSu\":\n",
        "                pass\n",
        "            else:\n",
        "                weatherToday = \"Cloudy\"\n",
        "        elif weatherToday == \"Cloudy\":\n",
        "            change = np.random.choice(transitionName[1],replace=True,p=transitionMatrix[1])\n",
        "            if change == \"ClCl\":\n",
        "                pass\n",
        "            else:\n",
        "                weatherToday = \"Sunny\"\n",
        "        output+= ' ' + weatherToday\n",
        "        i += 1\n",
        "    return output"
      ],
      "execution_count": 3,
      "outputs": []
    },
    {
      "cell_type": "markdown",
      "metadata": {
        "id": "c0_w79upi4b-"
      },
      "source": [
        "### Stationary probabilities given starting point\n"
      ]
    },
    {
      "cell_type": "markdown",
      "metadata": {
        "id": "G7U0v3xyGYbz"
      },
      "source": [
        "##### Random sequence"
      ]
    },
    {
      "cell_type": "code",
      "metadata": {
        "colab": {
          "base_uri": "https://localhost:8080/"
        },
        "id": "JLD_PzMVeSVz",
        "outputId": "1da9c769-4acb-4000-ff96-7f0b84301e2e"
      },
      "source": [
        "# We forecast the weather for 100 days\n",
        "forecast = weatherForecast(100, 'Sunny')\n",
        "print(forecast)\n",
        "pSunny = forecast.count('Sunny')/100\n",
        "pCloudy = forecast.count('Cloudy')/100\n",
        "print([pSunny,pCloudy])"
      ],
      "execution_count": 37,
      "outputs": [
        {
          "output_type": "stream",
          "name": "stdout",
          "text": [
            "Starting weather:  Sunny\n",
            "Sunny Sunny Sunny Sunny Sunny Sunny Sunny Sunny Sunny Sunny Sunny Sunny Sunny Sunny Cloudy Cloudy Sunny Sunny Sunny Sunny Sunny Cloudy Cloudy Sunny Cloudy Sunny Sunny Sunny Sunny Sunny Sunny Sunny Sunny Sunny Sunny Sunny Sunny Sunny Sunny Sunny Sunny Sunny Sunny Cloudy Cloudy Cloudy Sunny Sunny Sunny Sunny Sunny Sunny Sunny Sunny Sunny Sunny Sunny Sunny Cloudy Cloudy Sunny Sunny Sunny Sunny Cloudy Cloudy Cloudy Cloudy Sunny Sunny Sunny Sunny Sunny Sunny Sunny Sunny Sunny Cloudy Cloudy Cloudy Sunny Sunny Sunny Cloudy Cloudy Sunny Sunny Cloudy Cloudy Cloudy Cloudy Sunny Sunny Sunny Sunny Cloudy Cloudy Sunny Cloudy Sunny\n",
            "[0.74, 0.26]\n"
          ]
        }
      ]
    },
    {
      "cell_type": "markdown",
      "metadata": {
        "id": "GqViE-GHGeis"
      },
      "source": [
        "##### Simulated Run"
      ]
    },
    {
      "cell_type": "code",
      "metadata": {
        "colab": {
          "base_uri": "https://localhost:8080/"
        },
        "id": "7YL0M8Cmf8Bk",
        "outputId": "920d117f-650a-499f-edb7-d6b28217624e"
      },
      "source": [
        "n=100000\n",
        "forecast = weatherForecast(n, 'Cloudy')\n",
        "p = []\n",
        "for st in states:\n",
        "  p.append(forecast.count(st)/n)\n",
        "print(p)"
      ],
      "execution_count": 38,
      "outputs": [
        {
          "output_type": "stream",
          "name": "stdout",
          "text": [
            "Starting weather:  Cloudy\n",
            "[0.71562, 0.28438]\n"
          ]
        }
      ]
    },
    {
      "cell_type": "markdown",
      "metadata": {
        "id": "Iv_k4zpRGr7T"
      },
      "source": [
        "##### Vector Multiplication"
      ]
    },
    {
      "cell_type": "code",
      "metadata": {
        "colab": {
          "base_uri": "https://localhost:8080/"
        },
        "id": "82i6N_azqmkG",
        "outputId": "4c1c4f69-4f5b-4bfa-e6e1-944b593f88f4"
      },
      "source": [
        "y = [1,0] # Sunny \n",
        "for i in range(0,100000):\n",
        "  y=np.matmul(y,transitionMatrix)\n",
        "print(y)"
      ],
      "execution_count": 39,
      "outputs": [
        {
          "output_type": "stream",
          "name": "stdout",
          "text": [
            "[0.71428571 0.28571429]\n"
          ]
        }
      ]
    }
  ]
}