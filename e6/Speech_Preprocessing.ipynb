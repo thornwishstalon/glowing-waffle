{
  "nbformat": 4,
  "nbformat_minor": 0,
  "metadata": {
    "colab": {
      "name": "Speech_Preprocessing.ipynb",
      "provenance": [],
      "collapsed_sections": []
    },
    "kernelspec": {
      "name": "python3",
      "display_name": "Python 3"
    },
    "language_info": {
      "name": "python"
    }
  },
  "cells": [
    {
      "cell_type": "markdown",
      "metadata": {
        "id": "DgDuOa9aeVbK"
      },
      "source": [
        "##### Adapted from https://github.com/ShawnHymel/tflite-speech-recognition\n"
      ]
    },
    {
      "cell_type": "markdown",
      "metadata": {
        "id": "xcK9zz4bFe7g"
      },
      "source": [
        "##Environment setup\n"
      ]
    },
    {
      "cell_type": "code",
      "metadata": {
        "id": "Q4ScjwWo96QA",
        "colab": {
          "base_uri": "https://localhost:8080/"
        },
        "outputId": "e65a5952-00cb-4fa5-d359-cf3c73bb8bcc"
      },
      "source": [
        "!pip install python_speech_features\n",
        "!git clone https://github.com/AllenDowney/ThinkDSP.git \n",
        "!pip install playsound"
      ],
      "execution_count": 29,
      "outputs": [
        {
          "output_type": "stream",
          "name": "stdout",
          "text": [
            "Requirement already satisfied: python_speech_features in /usr/local/lib/python3.7/dist-packages (0.6)\n",
            "fatal: destination path 'ThinkDSP' already exists and is not an empty directory.\n",
            "Requirement already satisfied: playsound in /usr/local/lib/python3.7/dist-packages (1.3.0)\n"
          ]
        }
      ]
    },
    {
      "cell_type": "markdown",
      "metadata": {
        "id": "HTo438BK6q5i"
      },
      "source": [
        "##Mounting access to google drive"
      ]
    },
    {
      "cell_type": "code",
      "metadata": {
        "id": "CE4XII9m56Jh",
        "colab": {
          "base_uri": "https://localhost:8080/"
        },
        "outputId": "0a580d38-beae-46f3-eeec-1fb25b7a77e6"
      },
      "source": [
        "from google.colab import drive\n",
        "drive.mount('/content/drive')\n",
        "data_path='/content/drive/MyDrive/Deep Learning/Datasets/speech commands'\n",
        "#colab specific"
      ],
      "execution_count": 30,
      "outputs": [
        {
          "output_type": "stream",
          "name": "stdout",
          "text": [
            "Drive already mounted at /content/drive; to attempt to forcibly remount, call drive.mount(\"/content/drive\", force_remount=True).\n"
          ]
        }
      ]
    },
    {
      "cell_type": "markdown",
      "metadata": {
        "id": "aHJEfoda8_Uq"
      },
      "source": [
        "Audio dataset at https://ai.googleblog.com/2017/08/launching-speech-commands-dataset.html"
      ]
    },
    {
      "cell_type": "markdown",
      "metadata": {
        "id": "HMMc96k8Fbc8"
      },
      "source": [
        "##Imports"
      ]
    },
    {
      "cell_type": "code",
      "metadata": {
        "id": "5bRr-q5Y9DG5"
      },
      "source": [
        "# necessary imports\n",
        "from os import listdir\n",
        "from os.path import isdir, join\n",
        "import librosa\n",
        "import random\n",
        "import numpy as np\n",
        "import matplotlib.pyplot as plt\n",
        "import python_speech_features\n",
        "import sys\n",
        "sys.path.insert(0, 'ThinkDSP/code/') \n",
        "import thinkdsp\n",
        "import IPython"
      ],
      "execution_count": 31,
      "outputs": []
    },
    {
      "cell_type": "markdown",
      "metadata": {
        "id": "QJ4Wat2fFyZj"
      },
      "source": [
        "##Discover classes and samples per class"
      ]
    },
    {
      "cell_type": "code",
      "metadata": {
        "id": "Hau8_30d_mhV",
        "colab": {
          "base_uri": "https://localhost:8080/"
        },
        "outputId": "b104199f-a5ac-44b9-dc52-ee4f7182bc14"
      },
      "source": [
        "# validate date path\n",
        "for name in listdir(data_path):\n",
        "  if isdir(join(data_path,name)):\n",
        "    print(name)"
      ],
      "execution_count": 32,
      "outputs": [
        {
          "output_type": "stream",
          "name": "stdout",
          "text": [
            "go\n",
            "_background_noise_\n",
            "stop\n",
            "four\n",
            "five\n",
            "down\n",
            "left\n",
            "eight\n",
            "zero\n",
            "no\n",
            "three\n"
          ]
        }
      ]
    },
    {
      "cell_type": "code",
      "metadata": {
        "id": "LCW7JFtYAf6D",
        "colab": {
          "base_uri": "https://localhost:8080/"
        },
        "outputId": "dfbb2dfe-12c9-49ba-ac81-83aa7ac9c7d7"
      },
      "source": [
        "# create target list\n",
        "targets=[name for name in listdir(data_path) if isdir(join(data_path,name))]\n",
        "print(targets)"
      ],
      "execution_count": 33,
      "outputs": [
        {
          "output_type": "stream",
          "name": "stdout",
          "text": [
            "['go', '_background_noise_', 'stop', 'four', 'five', 'down', 'left', 'eight', 'zero', 'no', 'three']\n"
          ]
        }
      ]
    },
    {
      "cell_type": "code",
      "metadata": {
        "id": "K1T-U7NhCrRq",
        "colab": {
          "base_uri": "https://localhost:8080/"
        },
        "outputId": "9cdf7fa2-e673-454f-e43f-adf46b30030d"
      },
      "source": [
        "# number of samples per category\n",
        "num_samples = 0\n",
        "for t in targets:\n",
        "  x= len(listdir(join(data_path,t)))\n",
        "  print(t, x)\n",
        "  num_samples+=x\n",
        "print(\"total samples: \",num_samples)"
      ],
      "execution_count": 34,
      "outputs": [
        {
          "output_type": "stream",
          "name": "stdout",
          "text": [
            "go 2372\n",
            "_background_noise_ 7\n",
            "stop 2390\n",
            "four 2372\n",
            "five 2357\n",
            "down 2359\n",
            "left 2353\n",
            "eight 2352\n",
            "zero 1884\n",
            "no 0\n",
            "three 0\n",
            "total samples:  18446\n"
          ]
        }
      ]
    },
    {
      "cell_type": "markdown",
      "metadata": {
        "id": "Hr7Qq-t1F9fF"
      },
      "source": [
        "##Exclude classes"
      ]
    },
    {
      "cell_type": "code",
      "metadata": {
        "id": "AIUHMaH9Cjvh",
        "colab": {
          "base_uri": "https://localhost:8080/"
        },
        "outputId": "4cc3cf89-c745-467f-c5b1-43262fdb95b5"
      },
      "source": [
        "# removing any category\n",
        "excluded = ['tree','three','no']\n",
        "for item in excluded:\n",
        "  if item in targets:\n",
        "    targets.remove(item)\n",
        "\n",
        "print(targets)"
      ],
      "execution_count": 35,
      "outputs": [
        {
          "output_type": "stream",
          "name": "stdout",
          "text": [
            "['go', '_background_noise_', 'stop', 'four', 'five', 'down', 'left', 'eight', 'zero']\n"
          ]
        }
      ]
    },
    {
      "cell_type": "code",
      "metadata": {
        "id": "_788AphBDuJc"
      },
      "source": [
        "# settings\n",
        "target_list = targets\n",
        "features_file = '/content/drive/MyDrive/Deep Learning/all_targets_mfcc.npz'\n",
        "percent_keep = 0.1 #1.0 to keep everything (lower is faster for prototyping)\n",
        "val_ratio = 0.1\n",
        "test_ratio = 0.1\n",
        "sample_rate = 8000\n",
        "num_mfcc = 16\n",
        "len_mfcc = 16"
      ],
      "execution_count": 36,
      "outputs": []
    },
    {
      "cell_type": "code",
      "metadata": {
        "id": "JsaFvH9oEa1K",
        "colab": {
          "base_uri": "https://localhost:8080/"
        },
        "outputId": "c524fbcd-8b25-4d7d-e8b2-6bc28834f218"
      },
      "source": [
        "# make list of file names and labels\n",
        "filenames = []\n",
        "labels = []\n",
        "for i, t in enumerate(targets):\n",
        "  x = join(data_path,t)\n",
        "  print (x)\n",
        "  filenames.append(listdir(x))\n",
        "  labels.append(np.ones(len(filenames[i]))*i)"
      ],
      "execution_count": 37,
      "outputs": [
        {
          "output_type": "stream",
          "name": "stdout",
          "text": [
            "/content/drive/MyDrive/Deep Learning/Datasets/speech commands/go\n",
            "/content/drive/MyDrive/Deep Learning/Datasets/speech commands/_background_noise_\n",
            "/content/drive/MyDrive/Deep Learning/Datasets/speech commands/stop\n",
            "/content/drive/MyDrive/Deep Learning/Datasets/speech commands/four\n",
            "/content/drive/MyDrive/Deep Learning/Datasets/speech commands/five\n",
            "/content/drive/MyDrive/Deep Learning/Datasets/speech commands/down\n",
            "/content/drive/MyDrive/Deep Learning/Datasets/speech commands/left\n",
            "/content/drive/MyDrive/Deep Learning/Datasets/speech commands/eight\n",
            "/content/drive/MyDrive/Deep Learning/Datasets/speech commands/zero\n"
          ]
        }
      ]
    },
    {
      "cell_type": "code",
      "metadata": {
        "id": "q1eg11CzFzxX",
        "colab": {
          "base_uri": "https://localhost:8080/"
        },
        "outputId": "9865f40c-070d-4716-84cf-3b8401dd5161"
      },
      "source": [
        "# check labels\n",
        "for i in labels:\n",
        "  print(len(i))\n",
        "print(labels)"
      ],
      "execution_count": 38,
      "outputs": [
        {
          "output_type": "stream",
          "name": "stdout",
          "text": [
            "2372\n",
            "7\n",
            "2390\n",
            "2372\n",
            "2357\n",
            "2359\n",
            "2353\n",
            "2352\n",
            "1884\n",
            "[array([0., 0., 0., ..., 0., 0., 0.]), array([1., 1., 1., 1., 1., 1., 1.]), array([2., 2., 2., ..., 2., 2., 2.]), array([3., 3., 3., ..., 3., 3., 3.]), array([4., 4., 4., ..., 4., 4., 4.]), array([5., 5., 5., ..., 5., 5., 5.]), array([6., 6., 6., ..., 6., 6., 6.]), array([7., 7., 7., ..., 7., 7., 7.]), array([8., 8., 8., ..., 8., 8., 8.])]\n"
          ]
        }
      ]
    },
    {
      "cell_type": "code",
      "metadata": {
        "id": "eKdrQhhDMnC5"
      },
      "source": [
        "# flatten list if normal list\n",
        "def flatten(listin = []):\n",
        "  r=[]\n",
        "  if not isinstance(listin,list):\n",
        "    return [listin]\n",
        "  if len(listin)<1:\n",
        "    return r\n",
        "  return r + flatten(listin[0])+flatten(listin[1:])"
      ],
      "execution_count": 39,
      "outputs": []
    },
    {
      "cell_type": "code",
      "metadata": {
        "id": "JYdtB8-f1MoF"
      },
      "source": [
        "# flatten numpy lists\n",
        "def flattennp (listin=[]):\n",
        "  items = [item for sublist in listin for item in sublist]\n",
        "  return items"
      ],
      "execution_count": 40,
      "outputs": []
    },
    {
      "cell_type": "code",
      "metadata": {
        "id": "CBTFq3qU2hGx"
      },
      "source": [
        "# flatten lists of names and labels\n",
        "filenames = flattennp(filenames)\n",
        "labels = flattennp(labels)"
      ],
      "execution_count": 41,
      "outputs": []
    },
    {
      "cell_type": "code",
      "metadata": {
        "id": "encnY2jsxRcE"
      },
      "source": [
        "# files and labels associated together\n",
        "data_labels = list(zip(filenames, labels))\n",
        "random.shuffle(data_labels)\n",
        "filenames,labels = zip(*data_labels)"
      ],
      "execution_count": 42,
      "outputs": []
    },
    {
      "cell_type": "code",
      "metadata": {
        "id": "awpLk-Sq20PQ",
        "colab": {
          "base_uri": "https://localhost:8080/"
        },
        "outputId": "ddb860c2-d47d-41ec-b443-ff9a39798655"
      },
      "source": [
        "# keep percentage of samples\n",
        "n = len(filenames)\n",
        "print (n)\n",
        "filenames = filenames[:int(n*percent_keep)]\n",
        "labels = labels [:int(n*percent_keep)]#####\n",
        "print (len(filenames))"
      ],
      "execution_count": 43,
      "outputs": [
        {
          "output_type": "stream",
          "name": "stdout",
          "text": [
            "18446\n",
            "1844\n"
          ]
        }
      ]
    },
    {
      "cell_type": "code",
      "metadata": {
        "id": "8HEV4F4V3xhi"
      },
      "source": [
        "# validation and test set sizes\n",
        "val_size = int (len(filenames) * val_ratio)\n",
        "test_size = int (len(filenames) * test_ratio)"
      ],
      "execution_count": 44,
      "outputs": []
    },
    {
      "cell_type": "code",
      "metadata": {
        "id": "SFYOVGRs5FwU",
        "colab": {
          "base_uri": "https://localhost:8080/"
        },
        "outputId": "df67f078-1109-4bc4-e8fa-1644190dbe9b"
      },
      "source": [
        "# breakdown the dataset into train, test, and validate\n",
        "filenames_val = filenames[:val_size]\n",
        "y_val = labels[:val_size]\n",
        "\n",
        "filenames_test = filenames[val_size:(val_size + test_size)]\n",
        "y_test = labels [val_size:(val_size + test_size)]\n",
        "\n",
        "filenames_train = filenames[(val_size+test_size):]\n",
        "y_train = labels[(val_size+test_size):]\n",
        "\n",
        "print(len(filenames_val),len(y_val))\n",
        "print(len(filenames_test),len(y_test))\n",
        "print(len(filenames_train),len(y_train))"
      ],
      "execution_count": 45,
      "outputs": [
        {
          "output_type": "stream",
          "name": "stdout",
          "text": [
            "184 184\n",
            "184 184\n",
            "1476 1476\n"
          ]
        }
      ]
    },
    {
      "cell_type": "code",
      "metadata": {
        "id": "sMLnxvDa7Z-u"
      },
      "source": [
        "# calculate MFCC\n",
        "def calc_mfcc (path):\n",
        "  signal, fs = librosa.load(path, sr = sample_rate)\n",
        "\n",
        "  mfccs = python_speech_features.base.mfcc(signal,\n",
        "                                           samplerate=fs,\n",
        "                                           winlen = 0.256,\n",
        "                                           winstep=0.05,\n",
        "                                           numcep=num_mfcc,\n",
        "                                           nfilt=26,\n",
        "                                           nfft=2048,\n",
        "                                           preemph=0.0,               #\n",
        "                                           ceplifter=0,               #\n",
        "                                           appendEnergy=False,        #\n",
        "                                           winfunc=np.hanning)\n",
        "  #print(fs) \n",
        "  return mfccs.transpose()"
      ],
      "execution_count": 46,
      "outputs": []
    },
    {
      "cell_type": "code",
      "metadata": {
        "id": "4sMs5zLk8w3A"
      },
      "source": [
        "# remove faulty samples\n",
        "def extract(files_in,y_in):\n",
        "  prob_cnt = 0\n",
        "  x_t = []\n",
        "  y_t = []\n",
        "  for index, filename in enumerate(files_in):\n",
        "  #create path from filename and target item\n",
        "    path = join (data_path,\n",
        "                target_list[int(y_in[index])],\n",
        "                filename)\n",
        "    \n",
        "    if not path.endswith('.wav'):\n",
        "      continue\n",
        "\n",
        "  # create mfcc\n",
        "    mfcc = calc_mfcc(path)\n",
        "    if mfcc.shape[1]==len_mfcc:\n",
        "      x_t.append(mfcc)\n",
        "      y_t.append(y_in[index])\n",
        "    else:\n",
        "      print('Dropped:', index, mfcc.shape)\n",
        "      prob_cnt+=1\n",
        "  return x_t , y_t , prob_cnt"
      ],
      "execution_count": 47,
      "outputs": []
    },
    {
      "cell_type": "code",
      "metadata": {
        "colab": {
          "base_uri": "https://localhost:8080/"
        },
        "id": "KLknsaRdPHq_",
        "outputId": "3e308c12-237c-402e-ae6d-b389f7b1a01b"
      },
      "source": [
        "# create valid test sets\n",
        "x_tr, y_tr, p = extract(filenames_train, y_train)\n",
        "print('Removed', 100*(p/len(y_train)),'%')\n",
        "x_va, y_va, p = extract(filenames_val, y_val)\n",
        "print('Removed', 100*(p/len(y_val)),'%')\n",
        "x_te, y_te, p = extract(filenames_test, y_test)\n",
        "print('Removed', 100*(p/len(y_test)),'%')"
      ],
      "execution_count": 48,
      "outputs": [
        {
          "output_type": "stream",
          "name": "stdout",
          "text": [
            "Dropped: 4 (16, 13)\n",
            "Dropped: 8 (16, 14)\n",
            "Dropped: 18 (16, 13)\n",
            "Dropped: 34 (16, 14)\n",
            "Dropped: 37 (16, 13)\n",
            "Dropped: 82 (16, 13)\n",
            "Dropped: 88 (16, 13)\n",
            "Dropped: 135 (16, 10)\n",
            "Dropped: 148 (16, 11)\n",
            "Dropped: 181 (16, 15)\n",
            "Dropped: 241 (16, 12)\n",
            "Dropped: 248 (16, 14)\n",
            "Dropped: 256 (16, 13)\n",
            "Dropped: 273 (16, 13)\n",
            "Dropped: 306 (16, 13)\n",
            "Dropped: 313 (16, 15)\n",
            "Dropped: 317 (16, 10)\n",
            "Dropped: 342 (16, 15)\n",
            "Dropped: 347 (16, 14)\n",
            "Dropped: 402 (16, 11)\n",
            "Dropped: 436 (16, 15)\n",
            "Dropped: 458 (16, 14)\n",
            "Dropped: 475 (16, 15)\n",
            "Dropped: 483 (16, 11)\n",
            "Dropped: 486 (16, 14)\n",
            "Dropped: 487 (16, 14)\n",
            "Dropped: 569 (16, 8)\n",
            "Dropped: 576 (16, 14)\n",
            "Dropped: 588 (16, 13)\n",
            "Dropped: 591 (16, 10)\n",
            "Dropped: 598 (16, 14)\n",
            "Dropped: 600 (16, 14)\n",
            "Dropped: 619 (16, 15)\n",
            "Dropped: 622 (16, 13)\n",
            "Dropped: 647 (16, 13)\n",
            "Dropped: 666 (16, 14)\n",
            "Dropped: 669 (16, 12)\n",
            "Dropped: 683 (16, 13)\n",
            "Dropped: 695 (16, 9)\n",
            "Dropped: 764 (16, 13)\n",
            "Dropped: 768 (16, 8)\n",
            "Dropped: 771 (16, 13)\n",
            "Dropped: 772 (16, 14)\n",
            "Dropped: 777 (16, 12)\n",
            "Dropped: 781 (16, 14)\n",
            "Dropped: 784 (16, 12)\n",
            "Dropped: 787 (16, 15)\n",
            "Dropped: 812 (16, 13)\n",
            "Dropped: 833 (16, 12)\n",
            "Dropped: 852 (16, 12)\n",
            "Dropped: 879 (16, 15)\n",
            "Dropped: 900 (16, 13)\n",
            "Dropped: 911 (16, 8)\n",
            "Dropped: 926 (16, 8)\n",
            "Dropped: 968 (16, 15)\n",
            "Dropped: 988 (16, 15)\n",
            "Dropped: 997 (16, 15)\n",
            "Dropped: 1041 (16, 14)\n",
            "Dropped: 1061 (16, 13)\n",
            "Dropped: 1067 (16, 13)\n",
            "Dropped: 1107 (16, 7)\n",
            "Dropped: 1118 (16, 14)\n",
            "Dropped: 1132 (16, 11)\n",
            "Dropped: 1137 (16, 14)\n",
            "Dropped: 1139 (16, 14)\n",
            "Dropped: 1145 (16, 13)\n",
            "Dropped: 1150 (16, 11)\n",
            "Dropped: 1152 (16, 13)\n",
            "Dropped: 1190 (16, 12)\n",
            "Dropped: 1232 (16, 7)\n",
            "Dropped: 1238 (16, 10)\n",
            "Dropped: 1240 (16, 13)\n",
            "Dropped: 1274 (16, 11)\n",
            "Dropped: 1290 (16, 14)\n",
            "Dropped: 1298 (16, 13)\n",
            "Dropped: 1320 (16, 15)\n",
            "Dropped: 1331 (16, 14)\n",
            "Dropped: 1336 (16, 14)\n",
            "Dropped: 1354 (16, 15)\n",
            "Dropped: 1383 (16, 15)\n",
            "Dropped: 1406 (16, 7)\n",
            "Dropped: 1427 (16, 11)\n",
            "Dropped: 1428 (16, 14)\n",
            "Dropped: 1441 (16, 15)\n",
            "Dropped: 1445 (16, 15)\n",
            "Removed 5.7588075880758804 %\n",
            "Dropped: 0 (16, 13)\n",
            "Dropped: 20 (16, 11)\n",
            "Dropped: 27 (16, 11)\n",
            "Dropped: 38 (16, 15)\n",
            "Dropped: 59 (16, 7)\n",
            "Dropped: 88 (16, 13)\n",
            "Dropped: 108 (16, 13)\n",
            "Dropped: 111 (16, 15)\n",
            "Dropped: 143 (16, 13)\n",
            "Dropped: 144 (16, 13)\n",
            "Dropped: 146 (16, 14)\n",
            "Dropped: 148 (16, 14)\n",
            "Dropped: 181 (16, 13)\n",
            "Dropped: 183 (16, 12)\n",
            "Removed 7.608695652173914 %\n",
            "Dropped: 20 (16, 14)\n",
            "Dropped: 32 (16, 14)\n",
            "Dropped: 43 (16, 15)\n",
            "Dropped: 51 (16, 12)\n",
            "Dropped: 55 (16, 15)\n",
            "Dropped: 66 (16, 8)\n",
            "Dropped: 118 (16, 13)\n",
            "Dropped: 125 (16, 10)\n",
            "Dropped: 128 (16, 15)\n",
            "Dropped: 138 (16, 10)\n",
            "Dropped: 139 (16, 1219)\n",
            "Dropped: 146 (16, 9)\n",
            "Dropped: 154 (16, 10)\n",
            "Dropped: 155 (16, 10)\n",
            "Removed 7.608695652173914 %\n"
          ]
        }
      ]
    },
    {
      "cell_type": "code",
      "metadata": {
        "id": "aTXH0WAbQCa6"
      },
      "source": [
        "# Save features for later use\n",
        "np.savez(features_file,\n",
        "         x_tr = x_tr,\n",
        "         y_tr = y_tr,\n",
        "         x_va = x_va,\n",
        "         y_va = y_va,\n",
        "         x_te = x_te,\n",
        "         y_te = y_te)"
      ],
      "execution_count": 49,
      "outputs": []
    }
  ]
}