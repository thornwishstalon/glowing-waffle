{
  "nbformat": 4,
  "nbformat_minor": 0,
  "metadata": {
    "kernelspec": {
      "display_name": "Python 3",
      "language": "python",
      "name": "python3"
    },
    "language_info": {
      "codemirror_mode": {
        "name": "ipython",
        "version": 3
      },
      "file_extension": ".py",
      "mimetype": "text/x-python",
      "name": "python",
      "nbconvert_exporter": "python",
      "pygments_lexer": "ipython3",
      "version": "3.7.5"
    },
    "colab": {
      "name": "Speech_Training.ipynb",
      "provenance": [],
      "collapsed_sections": []
    }
  },
  "cells": [
    {
      "cell_type": "markdown",
      "metadata": {
        "id": "DgDuOa9aeVbK"
      },
      "source": [
        "##### Adapted from https://github.com/ShawnHymel/tflite-speech-recognition\n"
      ]
    },
    {
      "cell_type": "code",
      "metadata": {
        "id": "r40FPEVCp_N9"
      },
      "source": [
        "from os import listdir\n",
        "from os.path import isdir, join\n",
        "from tensorflow.keras import layers, models\n",
        "import numpy as np"
      ],
      "execution_count": 74,
      "outputs": []
    },
    {
      "cell_type": "code",
      "metadata": {
        "id": "CE4XII9m56Jh",
        "colab": {
          "base_uri": "https://localhost:8080/"
        },
        "outputId": "54ad9f4d-b046-4962-e5fe-b44f407b9358"
      },
      "source": [
        "from google.colab import drive\n",
        "drive.mount('/content/drive')\n",
        "dataset_path='/content/drive/MyDrive/Deep Learning/Datasets/speech commands'\n",
        "#colab specific"
      ],
      "execution_count": 75,
      "outputs": [
        {
          "output_type": "stream",
          "name": "stdout",
          "text": [
            "Drive already mounted at /content/drive; to attempt to forcibly remount, call drive.mount(\"/content/drive\", force_remount=True).\n"
          ]
        }
      ]
    },
    {
      "cell_type": "code",
      "metadata": {
        "colab": {
          "base_uri": "https://localhost:8080/"
        },
        "id": "oTn3Es3Hp_N-",
        "outputId": "15348ee9-9c90-4541-876a-df45e7216229"
      },
      "source": [
        "# Create list of all targets (minus background noise)\n",
        "all_targets = all_targets = [name for name in listdir(dataset_path) if isdir(join(dataset_path, name))]\n",
        "#all_targets.remove('_background_noise_')\n",
        "print(all_targets)"
      ],
      "execution_count": 76,
      "outputs": [
        {
          "output_type": "stream",
          "name": "stdout",
          "text": [
            "['four', '_background_noise_', 'stop', 'go', 'left', 'down', 'eight', 'five', 'zero', 'no', 'three']\n"
          ]
        }
      ]
    },
    {
      "cell_type": "code",
      "metadata": {
        "id": "Vas-Zc_5p_N_"
      },
      "source": [
        "# Settings\n",
        "feature_sets_path = '/content/drive/MyDrive/Deep Learning'\n",
        "feature_sets_filename = 'all_targets_mfcc.npz'\n",
        "model_filename = 'wake_word_stop_model.h5'\n",
        "wake_word = 'stop'"
      ],
      "execution_count": 77,
      "outputs": []
    },
    {
      "cell_type": "code",
      "metadata": {
        "colab": {
          "base_uri": "https://localhost:8080/"
        },
        "id": "1hZ23gFQp_N_",
        "outputId": "6fc7a48e-1c38-496a-9b24-e875fad2ab61"
      },
      "source": [
        "# Load feature sets\n",
        "feature_sets = np.load(join(feature_sets_path, feature_sets_filename))\n",
        "print(feature_sets.files)"
      ],
      "execution_count": 78,
      "outputs": [
        {
          "output_type": "stream",
          "name": "stdout",
          "text": [
            "['x_tr', 'y_tr', 'x_va', 'y_va', 'x_te', 'y_te']\n"
          ]
        }
      ]
    },
    {
      "cell_type": "code",
      "metadata": {
        "id": "uBB1FckAp_N_"
      },
      "source": [
        "# Assign feature sets\n",
        "x_train = feature_sets['x_tr']\n",
        "y_train = feature_sets['y_tr']\n",
        "x_val = feature_sets['x_va']\n",
        "y_val = feature_sets['y_va']\n",
        "x_test = feature_sets['x_te']\n",
        "y_test = feature_sets['y_te']"
      ],
      "execution_count": 79,
      "outputs": []
    },
    {
      "cell_type": "code",
      "metadata": {
        "id": "srdGJUv9p_N_",
        "colab": {
          "base_uri": "https://localhost:8080/"
        },
        "outputId": "5f8d75f5-aa71-4be3-e24f-fe5bfc48fb4a"
      },
      "source": [
        "# Look at tensor dimensions\n",
        "print(x_train.shape)\n",
        "print(x_val.shape)\n",
        "print(x_test.shape)"
      ],
      "execution_count": 80,
      "outputs": [
        {
          "output_type": "stream",
          "name": "stdout",
          "text": [
            "(1391, 16, 16)\n",
            "(170, 16, 16)\n",
            "(170, 16, 16)\n"
          ]
        }
      ]
    },
    {
      "cell_type": "code",
      "metadata": {
        "id": "ihtTpiGXp_N_",
        "colab": {
          "base_uri": "https://localhost:8080/"
        },
        "outputId": "372578f1-7ddb-47ee-dccd-76fa8e86ebd8"
      },
      "source": [
        "# Peek at labels\n",
        "print(y_val)"
      ],
      "execution_count": 81,
      "outputs": [
        {
          "output_type": "stream",
          "name": "stdout",
          "text": [
            "[4. 0. 8. 8. 8. 5. 7. 5. 5. 0. 5. 3. 4. 3. 5. 3. 0. 3. 7. 5. 2. 7. 4. 2.\n",
            " 2. 6. 3. 3. 4. 0. 2. 4. 7. 0. 7. 2. 3. 4. 3. 3. 7. 7. 0. 3. 2. 7. 0. 2.\n",
            " 3. 7. 4. 3. 0. 6. 4. 8. 8. 2. 4. 4. 7. 4. 2. 0. 3. 7. 2. 7. 5. 2. 4. 4.\n",
            " 0. 8. 0. 5. 0. 3. 2. 2. 8. 0. 0. 8. 6. 7. 8. 8. 7. 2. 6. 4. 2. 4. 2. 2.\n",
            " 4. 2. 3. 2. 7. 4. 6. 3. 5. 4. 2. 5. 2. 0. 7. 0. 0. 6. 4. 5. 8. 5. 0. 7.\n",
            " 3. 6. 8. 7. 7. 5. 4. 3. 5. 8. 5. 7. 3. 3. 2. 0. 4. 2. 0. 0. 7. 8. 8. 7.\n",
            " 4. 5. 7. 8. 8. 5. 2. 0. 0. 8. 3. 7. 3. 2. 7. 3. 8. 8. 0. 3. 0. 3. 2. 5.\n",
            " 6. 2.]\n"
          ]
        }
      ]
    },
    {
      "cell_type": "code",
      "metadata": {
        "id": "NUu6VTVJp_OA"
      },
      "source": [
        "# Convert ground truth arrays to one wake word (1) and 'other' (0)\n",
        "wake_word_index = all_targets.index(wake_word)\n",
        "y_train = np.equal(y_train, wake_word_index).astype('float64')\n",
        "y_val = np.equal(y_val, wake_word_index).astype('float64')\n",
        "y_test = np.equal(y_test, wake_word_index).astype('float64')"
      ],
      "execution_count": 82,
      "outputs": []
    },
    {
      "cell_type": "code",
      "metadata": {
        "id": "LMBrX_nDp_OA",
        "colab": {
          "base_uri": "https://localhost:8080/"
        },
        "outputId": "8d4edcf2-641d-42a4-c91b-95f91c01f5bf"
      },
      "source": [
        "# Peek at labels after conversion\n",
        "print(y_val)"
      ],
      "execution_count": 83,
      "outputs": [
        {
          "output_type": "stream",
          "name": "stdout",
          "text": [
            "[0. 0. 0. 0. 0. 0. 0. 0. 0. 0. 0. 0. 0. 0. 0. 0. 0. 0. 0. 0. 1. 0. 0. 1.\n",
            " 1. 0. 0. 0. 0. 0. 1. 0. 0. 0. 0. 1. 0. 0. 0. 0. 0. 0. 0. 0. 1. 0. 0. 1.\n",
            " 0. 0. 0. 0. 0. 0. 0. 0. 0. 1. 0. 0. 0. 0. 1. 0. 0. 0. 1. 0. 0. 1. 0. 0.\n",
            " 0. 0. 0. 0. 0. 0. 1. 1. 0. 0. 0. 0. 0. 0. 0. 0. 0. 1. 0. 0. 1. 0. 1. 1.\n",
            " 0. 1. 0. 1. 0. 0. 0. 0. 0. 0. 1. 0. 1. 0. 0. 0. 0. 0. 0. 0. 0. 0. 0. 0.\n",
            " 0. 0. 0. 0. 0. 0. 0. 0. 0. 0. 0. 0. 0. 0. 1. 0. 0. 1. 0. 0. 0. 0. 0. 0.\n",
            " 0. 0. 0. 0. 0. 0. 1. 0. 0. 0. 0. 0. 0. 1. 0. 0. 0. 0. 0. 0. 0. 0. 1. 0.\n",
            " 0. 1.]\n"
          ]
        }
      ]
    },
    {
      "cell_type": "code",
      "metadata": {
        "id": "twDG7mL4p_OA",
        "colab": {
          "base_uri": "https://localhost:8080/"
        },
        "outputId": "056b45b3-5bc1-48ff-8602-d20008010c7e"
      },
      "source": [
        "# What percentage of 'stop' appear in validation labels\n",
        "print(sum(y_val) / len(y_val))\n",
        "print(1 - sum(y_val) / len(y_val))"
      ],
      "execution_count": 84,
      "outputs": [
        {
          "output_type": "stream",
          "name": "stdout",
          "text": [
            "0.1588235294117647\n",
            "0.8411764705882353\n"
          ]
        }
      ]
    },
    {
      "cell_type": "code",
      "metadata": {
        "id": "2bHSmFrrp_OA",
        "colab": {
          "base_uri": "https://localhost:8080/"
        },
        "outputId": "fb02206d-dec5-4f51-a12f-68e3731f05d1"
      },
      "source": [
        "# View the dimensions of our input data\n",
        "print(x_train.shape)"
      ],
      "execution_count": 85,
      "outputs": [
        {
          "output_type": "stream",
          "name": "stdout",
          "text": [
            "(1391, 16, 16)\n"
          ]
        }
      ]
    },
    {
      "cell_type": "code",
      "metadata": {
        "id": "u1qnh45Hp_OA",
        "colab": {
          "base_uri": "https://localhost:8080/"
        },
        "outputId": "11520de6-3fce-4882-bfef-97c4c9e8d402"
      },
      "source": [
        "# CNN for TF expects (batch, height, width, channels)\n",
        "# So we reshape the input tensors with a \"color\" channel of 1\n",
        "x_train = x_train.reshape(x_train.shape[0], \n",
        "                          x_train.shape[1], \n",
        "                          x_train.shape[2], \n",
        "                          1)\n",
        "x_val = x_val.reshape(x_val.shape[0], \n",
        "                      x_val.shape[1], \n",
        "                      x_val.shape[2], \n",
        "                      1)\n",
        "x_test = x_test.reshape(x_test.shape[0], \n",
        "                        x_test.shape[1], \n",
        "                        x_test.shape[2], \n",
        "                        1)\n",
        "print(x_train.shape)\n",
        "print(x_val.shape)\n",
        "print(x_test.shape)"
      ],
      "execution_count": 86,
      "outputs": [
        {
          "output_type": "stream",
          "name": "stdout",
          "text": [
            "(1391, 16, 16, 1)\n",
            "(170, 16, 16, 1)\n",
            "(170, 16, 16, 1)\n"
          ]
        }
      ]
    },
    {
      "cell_type": "code",
      "metadata": {
        "id": "CjmtbDu2p_OB",
        "colab": {
          "base_uri": "https://localhost:8080/"
        },
        "outputId": "f82fada1-1d7d-4740-df9b-535d80b6dc8c"
      },
      "source": [
        "# Input shape for CNN is size of MFCC of 1 sample\n",
        "sample_shape = x_test.shape[1:]\n",
        "print(sample_shape)"
      ],
      "execution_count": 87,
      "outputs": [
        {
          "output_type": "stream",
          "name": "stdout",
          "text": [
            "(16, 16, 1)\n"
          ]
        }
      ]
    },
    {
      "cell_type": "code",
      "metadata": {
        "id": "hnxwq7Txp_OB"
      },
      "source": [
        "# Build model\n",
        "# Based on: https://www.geeksforgeeks.org/python-image-classification-using-keras/\n",
        "model = models.Sequential()\n",
        "model.add(layers.Conv2D(32, \n",
        "                        (2, 2), \n",
        "                        activation='relu',\n",
        "                        input_shape=sample_shape))\n",
        "model.add(layers.MaxPooling2D(pool_size=(2, 2)))\n",
        "\n",
        "model.add(layers.Conv2D(32, (2, 2), activation='relu'))\n",
        "model.add(layers.MaxPooling2D(pool_size=(2, 2)))\n",
        "\n",
        "model.add(layers.Conv2D(64, (2, 2), activation='relu'))\n",
        "model.add(layers.MaxPooling2D(pool_size=(2, 2)))\n",
        "\n",
        "# Classifier\n",
        "model.add(layers.Flatten())\n",
        "model.add(layers.Dense(64, activation='relu'))\n",
        "model.add(layers.Dropout(0.5))\n",
        "model.add(layers.Dense(1, activation='sigmoid'))"
      ],
      "execution_count": 88,
      "outputs": []
    },
    {
      "cell_type": "code",
      "metadata": {
        "id": "N6dtQP2Op_OB",
        "colab": {
          "base_uri": "https://localhost:8080/"
        },
        "outputId": "96f8b64b-29fc-4c82-df4e-311fce11c1a3"
      },
      "source": [
        "# Display model\n",
        "model.summary()"
      ],
      "execution_count": 89,
      "outputs": [
        {
          "output_type": "stream",
          "name": "stdout",
          "text": [
            "Model: \"sequential_2\"\n",
            "_________________________________________________________________\n",
            " Layer (type)                Output Shape              Param #   \n",
            "=================================================================\n",
            " conv2d_6 (Conv2D)           (None, 15, 15, 32)        160       \n",
            "                                                                 \n",
            " max_pooling2d_6 (MaxPooling  (None, 7, 7, 32)         0         \n",
            " 2D)                                                             \n",
            "                                                                 \n",
            " conv2d_7 (Conv2D)           (None, 6, 6, 32)          4128      \n",
            "                                                                 \n",
            " max_pooling2d_7 (MaxPooling  (None, 3, 3, 32)         0         \n",
            " 2D)                                                             \n",
            "                                                                 \n",
            " conv2d_8 (Conv2D)           (None, 2, 2, 64)          8256      \n",
            "                                                                 \n",
            " max_pooling2d_8 (MaxPooling  (None, 1, 1, 64)         0         \n",
            " 2D)                                                             \n",
            "                                                                 \n",
            " flatten_2 (Flatten)         (None, 64)                0         \n",
            "                                                                 \n",
            " dense_4 (Dense)             (None, 64)                4160      \n",
            "                                                                 \n",
            " dropout_2 (Dropout)         (None, 64)                0         \n",
            "                                                                 \n",
            " dense_5 (Dense)             (None, 1)                 65        \n",
            "                                                                 \n",
            "=================================================================\n",
            "Total params: 16,769\n",
            "Trainable params: 16,769\n",
            "Non-trainable params: 0\n",
            "_________________________________________________________________\n"
          ]
        }
      ]
    },
    {
      "cell_type": "code",
      "metadata": {
        "id": "staMwxjCp_OB"
      },
      "source": [
        "# Add training parameters to model\n",
        "model.compile(loss='binary_crossentropy', \n",
        "              optimizer='rmsprop', \n",
        "              metrics=['acc'])"
      ],
      "execution_count": 90,
      "outputs": []
    },
    {
      "cell_type": "code",
      "metadata": {
        "id": "GNyPiFhwp_OB",
        "colab": {
          "base_uri": "https://localhost:8080/"
        },
        "outputId": "336df4e4-dcca-4453-e371-e6031a98feb2"
      },
      "source": [
        "# Train\n",
        "history = model.fit(x_train, \n",
        "                    y_train, \n",
        "                    epochs=30, \n",
        "                    batch_size=100, \n",
        "                    validation_data=(x_val, y_val))"
      ],
      "execution_count": 91,
      "outputs": [
        {
          "output_type": "stream",
          "name": "stdout",
          "text": [
            "Epoch 1/30\n",
            "14/14 [==============================] - 2s 42ms/step - loss: 0.4231 - acc: 0.8519 - val_loss: 0.4013 - val_acc: 0.8412\n",
            "Epoch 2/30\n",
            "14/14 [==============================] - 0s 28ms/step - loss: 0.3485 - acc: 0.8735 - val_loss: 0.4113 - val_acc: 0.8412\n",
            "Epoch 3/30\n",
            "14/14 [==============================] - 0s 28ms/step - loss: 0.3253 - acc: 0.8749 - val_loss: 0.3889 - val_acc: 0.8529\n",
            "Epoch 4/30\n",
            "14/14 [==============================] - 0s 28ms/step - loss: 0.3130 - acc: 0.8785 - val_loss: 0.3593 - val_acc: 0.8412\n",
            "Epoch 5/30\n",
            "14/14 [==============================] - 0s 27ms/step - loss: 0.2908 - acc: 0.8749 - val_loss: 0.4040 - val_acc: 0.8412\n",
            "Epoch 6/30\n",
            "14/14 [==============================] - 0s 26ms/step - loss: 0.2627 - acc: 0.8936 - val_loss: 0.3529 - val_acc: 0.8412\n",
            "Epoch 7/30\n",
            "14/14 [==============================] - 0s 26ms/step - loss: 0.2660 - acc: 0.9008 - val_loss: 0.2946 - val_acc: 0.8471\n",
            "Epoch 8/30\n",
            "14/14 [==============================] - 0s 28ms/step - loss: 0.2336 - acc: 0.9037 - val_loss: 0.3732 - val_acc: 0.8412\n",
            "Epoch 9/30\n",
            "14/14 [==============================] - 0s 27ms/step - loss: 0.2310 - acc: 0.9065 - val_loss: 0.3559 - val_acc: 0.8412\n",
            "Epoch 10/30\n",
            "14/14 [==============================] - 0s 26ms/step - loss: 0.2123 - acc: 0.9195 - val_loss: 0.2438 - val_acc: 0.9176\n",
            "Epoch 11/30\n",
            "14/14 [==============================] - 0s 28ms/step - loss: 0.2012 - acc: 0.9173 - val_loss: 0.2349 - val_acc: 0.9176\n",
            "Epoch 12/30\n",
            "14/14 [==============================] - 0s 28ms/step - loss: 0.1756 - acc: 0.9324 - val_loss: 0.3287 - val_acc: 0.8412\n",
            "Epoch 13/30\n",
            "14/14 [==============================] - 0s 28ms/step - loss: 0.1655 - acc: 0.9367 - val_loss: 0.2869 - val_acc: 0.8941\n",
            "Epoch 14/30\n",
            "14/14 [==============================] - 0s 28ms/step - loss: 0.1640 - acc: 0.9360 - val_loss: 0.3147 - val_acc: 0.8353\n",
            "Epoch 15/30\n",
            "14/14 [==============================] - 0s 28ms/step - loss: 0.1781 - acc: 0.9418 - val_loss: 0.2231 - val_acc: 0.9235\n",
            "Epoch 16/30\n",
            "14/14 [==============================] - 0s 28ms/step - loss: 0.1578 - acc: 0.9375 - val_loss: 0.2772 - val_acc: 0.8882\n",
            "Epoch 17/30\n",
            "14/14 [==============================] - 0s 28ms/step - loss: 0.1539 - acc: 0.9425 - val_loss: 0.2084 - val_acc: 0.9235\n",
            "Epoch 18/30\n",
            "14/14 [==============================] - 0s 29ms/step - loss: 0.1245 - acc: 0.9511 - val_loss: 0.2441 - val_acc: 0.9176\n",
            "Epoch 19/30\n",
            "14/14 [==============================] - 0s 29ms/step - loss: 0.1412 - acc: 0.9490 - val_loss: 0.2214 - val_acc: 0.9176\n",
            "Epoch 20/30\n",
            "14/14 [==============================] - 0s 29ms/step - loss: 0.1402 - acc: 0.9468 - val_loss: 0.4321 - val_acc: 0.8706\n",
            "Epoch 21/30\n",
            "14/14 [==============================] - 0s 29ms/step - loss: 0.1193 - acc: 0.9597 - val_loss: 0.1948 - val_acc: 0.9412\n",
            "Epoch 22/30\n",
            "14/14 [==============================] - 0s 29ms/step - loss: 0.1214 - acc: 0.9569 - val_loss: 0.2524 - val_acc: 0.9118\n",
            "Epoch 23/30\n",
            "14/14 [==============================] - 0s 30ms/step - loss: 0.1181 - acc: 0.9518 - val_loss: 0.1983 - val_acc: 0.9412\n",
            "Epoch 24/30\n",
            "14/14 [==============================] - 0s 29ms/step - loss: 0.0968 - acc: 0.9655 - val_loss: 0.3239 - val_acc: 0.8941\n",
            "Epoch 25/30\n",
            "14/14 [==============================] - 0s 28ms/step - loss: 0.0984 - acc: 0.9641 - val_loss: 0.3208 - val_acc: 0.8529\n",
            "Epoch 26/30\n",
            "14/14 [==============================] - 0s 30ms/step - loss: 0.1027 - acc: 0.9561 - val_loss: 0.1963 - val_acc: 0.9294\n",
            "Epoch 27/30\n",
            "14/14 [==============================] - 0s 28ms/step - loss: 0.1038 - acc: 0.9626 - val_loss: 0.2109 - val_acc: 0.9294\n",
            "Epoch 28/30\n",
            "14/14 [==============================] - 0s 31ms/step - loss: 0.0950 - acc: 0.9633 - val_loss: 0.3182 - val_acc: 0.8941\n",
            "Epoch 29/30\n",
            "14/14 [==============================] - 0s 29ms/step - loss: 0.1016 - acc: 0.9655 - val_loss: 0.2073 - val_acc: 0.9412\n",
            "Epoch 30/30\n",
            "14/14 [==============================] - 0s 28ms/step - loss: 0.0627 - acc: 0.9806 - val_loss: 0.3089 - val_acc: 0.9059\n"
          ]
        }
      ]
    },
    {
      "cell_type": "code",
      "metadata": {
        "id": "DmzNZWv0p_OC",
        "colab": {
          "base_uri": "https://localhost:8080/",
          "height": 545
        },
        "outputId": "caff0821-3741-49e0-fc3e-615740419422"
      },
      "source": [
        "# Plot results\n",
        "import matplotlib.pyplot as plt\n",
        "\n",
        "acc = history.history['acc']\n",
        "val_acc = history.history['val_acc']\n",
        "loss = history.history['loss']\n",
        "val_loss = history.history['val_loss']\n",
        "\n",
        "epochs = range(1, len(acc) + 1)\n",
        "\n",
        "plt.plot(epochs, acc, 'bo', label='Training acc')\n",
        "plt.plot(epochs, val_acc, 'b', label='Validation acc')\n",
        "plt.title('Training and validation accuracy')\n",
        "plt.legend()\n",
        "\n",
        "plt.figure()\n",
        "\n",
        "plt.plot(epochs, loss, 'bo', label='Training loss')\n",
        "plt.plot(epochs, val_loss, 'b', label='Validation loss')\n",
        "plt.title('Training and validation loss')\n",
        "plt.legend()\n",
        "\n",
        "plt.show()"
      ],
      "execution_count": 92,
      "outputs": [
        {
          "output_type": "display_data",
          "data": {
            "image/png": "[encoded data removed]",
            "text/plain": [
              "<Figure size 432x288 with 1 Axes>"
            ]
          },
          "metadata": {
            "needs_background": "light"
          }
        },
        {
          "output_type": "display_data",
          "data": {
            "image/png": "[encoded data removed]",
            "text/plain": [
              "<Figure size 432x288 with 1 Axes>"
            ]
          },
          "metadata": {
            "needs_background": "light"
          }
        }
      ]
    },
    {
      "cell_type": "code",
      "metadata": {
        "id": "FI0wbi15p_OC"
      },
      "source": [
        "# Save the model as a file\n",
        "models.save_model(model, model_filename)"
      ],
      "execution_count": 93,
      "outputs": []
    },
    {
      "cell_type": "code",
      "metadata": {
        "id": "35VhjeeFp_OC",
        "colab": {
          "base_uri": "https://localhost:8080/"
        },
        "outputId": "2c300ab7-3625-4de1-a491-970b2e844b73"
      },
      "source": [
        "# See which are 'stop'\n",
        "for idx, y in enumerate(y_test):\n",
        "    if y == 1:\n",
        "        print(idx)"
      ],
      "execution_count": 94,
      "outputs": [
        {
          "output_type": "stream",
          "name": "stdout",
          "text": [
            "9\n",
            "10\n",
            "13\n",
            "38\n",
            "46\n",
            "48\n",
            "51\n",
            "59\n",
            "60\n",
            "62\n",
            "69\n",
            "76\n",
            "81\n",
            "84\n",
            "95\n",
            "96\n",
            "100\n",
            "111\n",
            "124\n",
            "125\n",
            "133\n",
            "147\n",
            "156\n"
          ]
        }
      ]
    },
    {
      "cell_type": "code",
      "metadata": {
        "id": "W2KyjduDp_OC",
        "colab": {
          "base_uri": "https://localhost:8080/"
        },
        "outputId": "8f3e436b-ae29-4725-b472-34bdef9b60df"
      },
      "source": [
        "# TEST: Load model and run it against test set\n",
        "model = models.load_model(model_filename)\n",
        "for i in range(70, 110):\n",
        "    print('Answer:', y_test[i], ' Prediction:', model.predict(np.expand_dims(x_test[i], 0)))"
      ],
      "execution_count": 98,
      "outputs": [
        {
          "output_type": "stream",
          "name": "stdout",
          "text": [
            "Answer: 0.0  Prediction: [[5.0387607e-05]]\n",
            "Answer: 0.0  Prediction: [[0.01465863]]\n",
            "Answer: 0.0  Prediction: [[0.00050879]]\n",
            "Answer: 0.0  Prediction: [[0.0024277]]\n",
            "Answer: 0.0  Prediction: [[7.5121574e-07]]\n",
            "Answer: 0.0  Prediction: [[0.02725196]]\n",
            "Answer: 1.0  Prediction: [[0.78513825]]\n",
            "Answer: 0.0  Prediction: [[1.7357391e-06]]\n",
            "Answer: 0.0  Prediction: [[9.240482e-05]]\n",
            "Answer: 0.0  Prediction: [[0.06403828]]\n",
            "Answer: 0.0  Prediction: [[4.0063137e-06]]\n",
            "Answer: 1.0  Prediction: [[0.93242335]]\n",
            "Answer: 0.0  Prediction: [[0.00104359]]\n",
            "Answer: 0.0  Prediction: [[3.143706e-05]]\n",
            "Answer: 1.0  Prediction: [[0.9919349]]\n",
            "Answer: 0.0  Prediction: [[0.00062105]]\n",
            "Answer: 0.0  Prediction: [[0.00224823]]\n",
            "Answer: 0.0  Prediction: [[1.8608333e-07]]\n",
            "Answer: 0.0  Prediction: [[0.07387683]]\n",
            "Answer: 0.0  Prediction: [[0.00822547]]\n",
            "Answer: 0.0  Prediction: [[0.00036147]]\n",
            "Answer: 0.0  Prediction: [[0.00172582]]\n",
            "Answer: 0.0  Prediction: [[1.8795326e-08]]\n",
            "Answer: 0.0  Prediction: [[4.1275553e-06]]\n",
            "Answer: 0.0  Prediction: [[0.02600589]]\n",
            "Answer: 1.0  Prediction: [[0.9419328]]\n",
            "Answer: 1.0  Prediction: [[0.04751801]]\n",
            "Answer: 0.0  Prediction: [[0.00013235]]\n",
            "Answer: 0.0  Prediction: [[0.00185084]]\n",
            "Answer: 0.0  Prediction: [[0.00016809]]\n",
            "Answer: 1.0  Prediction: [[0.559278]]\n",
            "Answer: 0.0  Prediction: [[0.00025943]]\n",
            "Answer: 0.0  Prediction: [[0.00544629]]\n",
            "Answer: 0.0  Prediction: [[0.01228344]]\n",
            "Answer: 0.0  Prediction: [[5.42634e-08]]\n",
            "Answer: 0.0  Prediction: [[0.03759697]]\n",
            "Answer: 0.0  Prediction: [[0.06950983]]\n",
            "Answer: 0.0  Prediction: [[0.0019072]]\n",
            "Answer: 0.0  Prediction: [[0.01179564]]\n",
            "Answer: 0.0  Prediction: [[0.31058675]]\n"
          ]
        }
      ]
    },
    {
      "cell_type": "code",
      "metadata": {
        "id": "JWG2JCPhp_OC",
        "colab": {
          "base_uri": "https://localhost:8080/"
        },
        "outputId": "72cc452f-2f69-48d1-faa8-f074cb22d8bc"
      },
      "source": [
        "# Evaluate model with test set\n",
        "model.evaluate(x=x_test, y=y_test)"
      ],
      "execution_count": 96,
      "outputs": [
        {
          "output_type": "stream",
          "name": "stdout",
          "text": [
            "6/6 [==============================] - 0s 6ms/step - loss: 0.2510 - acc: 0.9353\n"
          ]
        },
        {
          "output_type": "execute_result",
          "data": {
            "text/plain": [
              "[0.2509542405605316, 0.9352940917015076]"
            ]
          },
          "metadata": {},
          "execution_count": 96
        }
      ]
    }
  ]
}